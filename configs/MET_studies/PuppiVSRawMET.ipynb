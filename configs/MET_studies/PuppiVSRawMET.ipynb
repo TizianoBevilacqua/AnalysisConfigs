{
 "cells": [
  {
   "cell_type": "markdown",
   "metadata": {},
   "source": [
    "# Compare Puppi MET and Raw Puppi MET"
   ]
  },
  {
   "cell_type": "code",
   "execution_count": 1,
   "metadata": {},
   "outputs": [
    {
     "data": {
      "text/plain": [
       "'0.7.29'"
      ]
     },
     "execution_count": 1,
     "metadata": {},
     "output_type": "execute_result"
    }
   ],
   "source": [
    "from coffea.nanoevents import NanoEventsFactory, NanoAODSchema\n",
    "import awkward as ak\n",
    "import matplotlib.pyplot as plt\n",
    "import matplotlib\n",
    "import vector\n",
    "import math\n",
    "import numpy as np\n",
    "import matplotlib.gridspec as gridspec\n",
    "vector.register_awkward()\n",
    "from coffea.jetmet_tools import CorrectedJetsFactory, CorrectedMETFactory, JECStack\n",
    "import coffea\n",
    "import cachetools\n",
    "coffea.__version__"
   ]
  },
  {
   "cell_type": "code",
   "execution_count": 2,
   "metadata": {},
   "outputs": [],
   "source": [
    "def met_correction_after_jec(events, METcoll, jets_pre_jec, jets_post_jec):\n",
    "    '''This function rescale the MET vector by minus delta of the jets after JEC correction\n",
    "    and before the jEC correction.\n",
    "    This can be used also to rescale the MET when updating on the fly the JEC calibration. '''\n",
    "    orig_tot_px = ak.sum(jets_pre_jec.px, axis=1)\n",
    "    orig_tot_py = ak.sum(jets_pre_jec.py, axis=1)\n",
    "    new_tot_px = ak.sum(jets_post_jec.px, axis=1)\n",
    "    new_tot_py = ak.sum(jets_post_jec.py, axis=1)\n",
    "    newpx =  events[METcoll].px - (new_tot_px - orig_tot_px) \n",
    "    newpy =  events[METcoll].py - (new_tot_py - orig_tot_py) \n",
    "    \n",
    "    newMetPhi = np.arctan2(newpy, newpx)\n",
    "    newMetPt = (newpx**2 + newpy**2)**0.5\n",
    "    return  {\"pt\": newMetPt, \"phi\": newMetPhi}\n",
    "\n"
   ]
  },
  {
   "cell_type": "code",
   "execution_count": 3,
   "metadata": {},
   "outputs": [],
   "source": [
    "filename=\"root://xrootd-cms.infn.it///store/mc/Run3Summer22NanoAODv12/DYJetsToLL_M-50_TuneCP5_13p6TeV-madgraphMLM-pythia8/NANOAODSIM/forPOG_130X_mcRun3_2022_realistic_v5-v2/2540000/88d947b3-b5ca-452b-84c1-034b8d6eab66.root\"\n",
    "events = NanoEventsFactory.from_root(filename, schemaclass=NanoAODSchema, entry_stop=1000 ).events()"
   ]
  },
  {
   "cell_type": "code",
   "execution_count": 4,
   "metadata": {},
   "outputs": [
    {
     "name": "stdout",
     "output_type": "stream",
     "text": [
      "[7.47, 57.9, 25.2, 8.44, 13, 18.4, 30.7, ... 26.9, 28.7, 48.4, 22, 23.4, 11.6, 30.5]\n",
      "[7.47, 76.5, 45.3, 10.9, 12, 17.7, 30.2, ... 34.3, 61.8, 23.8, 32.6, 14.7, 26.6]\n",
      "[77.3, 52.8, 24, 10.7, 8.99, 26.5, 37.2, ... 31, 37.1, 33.7, 19.1, 12, 17.7, 25.2]\n",
      "[80.9, 72.1, 25.7, 13.3, 8.48, 26.9, 42.2, ... 46.4, 30.6, 14.5, 6.91, 27.7, 25.4]\n"
     ]
    }
   ],
   "source": [
    "print(events.RawPuppiMET.pt)\n",
    "print(events.PuppiMET.pt)\n",
    "\n",
    "print(events.RawMET.pt)\n",
    "print(events.MET.pt)"
   ]
  },
  {
   "cell_type": "code",
   "execution_count": 5,
   "metadata": {},
   "outputs": [],
   "source": [
    "jet_raw = ak.copy(events.Jet)\n",
    "jet_raw_pt = jet_raw.pt * (\n",
    "    1 - jet_raw.rawFactor\n",
    ")  \n",
    "jet_raw = ak.zip(\n",
    "    {\n",
    "        \"pt\": jet_raw_pt,\n",
    "        \"px\": jet_raw_pt * np.cos(jet_raw.phi),\n",
    "        \"py\": jet_raw_pt * np.sin(jet_raw.phi),\n",
    "        \"phi\": jet_raw.phi,\n",
    "        \"eta\": jet_raw.eta,\n",
    "        \"mass\": jet_raw.mass\n",
    "        * (\n",
    "            1 - jet_raw.rawFactor\n",
    "        ),  # Assuming rawFactor is the correct field for raw mass\n",
    "    },\n",
    "    with_name=\"Momentum4D\",\n",
    ")\n",
    "jet = ak.zip(\n",
    "    {\n",
    "        \"pt\": events.Jet.pt,\n",
    "        \"px\": events.Jet.pt * np.cos(events.Jet.phi),\n",
    "        \"py\": events.Jet.pt * np.sin(events.Jet.phi),\n",
    "        \"phi\": events.Jet.phi,\n",
    "        \"eta\": events.Jet.eta,\n",
    "        \"mass\": events.Jet.mass,\n",
    "        \"pt_orig\":jet_raw_pt,\n",
    "    },\n",
    "    with_name=\"Momentum4D\",\n",
    ")\n",
    "\n",
    "# mask_jet = jet.pt>=14.99\n",
    "# print(\"efficiency of jets:\", ak.sum(mask_jet) / ak.count(jet.pt))\n",
    "\n",
    "# jet_not = jet[~mask_jet]\n",
    "# print(\"jets not passing pt cut:\", ak.to_numpy(jet_not.pt[ak.num(jet_not.pt) > 0]))\n",
    "\n",
    "# jet = jet[mask_jet]\n",
    "# jet_raw = jet_raw[mask_jet]"
   ]
  },
  {
   "cell_type": "code",
   "execution_count": 6,
   "metadata": {},
   "outputs": [],
   "source": [
    "cal_met = met_correction_after_jec(events, \"RawPuppiMET\", jet_raw, jet)\n",
    "cal_met = ak.zip(\n",
    "    {\n",
    "        \"pt\": cal_met[\"pt\"],\n",
    "        \"phi\": cal_met[\"phi\"],\n",
    "    },\n",
    "    with_name=\"Momentum4D\",\n",
    ")\n",
    "\n",
    "raw_met = met_correction_after_jec(events, \"PuppiMET\", jet, jet_raw)\n",
    "raw_met = ak.zip(\n",
    "    {\n",
    "        \"pt\": raw_met[\"pt\"],\n",
    "        \"phi\": raw_met[\"phi\"],\n",
    "    },\n",
    "    with_name=\"Momentum4D\",\n",
    ")\n"
   ]
  },
  {
   "cell_type": "code",
   "execution_count": 7,
   "metadata": {},
   "outputs": [
    {
     "name": "stdout",
     "output_type": "stream",
     "text": [
      "Raw Puppi MET pt: [7.47, 57.9, 25.2, 8.44, 13, 18.4, 30.7, ... 26.9, 28.7, 48.4, 22, 23.4, 11.6, 30.5]\n",
      "Raw recomputed Puppi MET pt: [7.47, 58, 25.2, 11.7, 13.1, 18.4, 30.7, ... 26.8, 28.7, 48.5, 21.9, 23.4, 12, 30.1]\n",
      " Puppi MET pt: [7.47, 76.5, 45.3, 10.9, 12, 17.7, 30.2, ... 34.3, 61.8, 23.8, 32.6, 14.7, 26.6]\n",
      "Corrected Puppi MET pt: [7.47, 76.4, 45.3, 7.75, 12, 17.7, 30.2, ... 34.3, 61.7, 23.8, 32.6, 12.9, 27.2]\n"
     ]
    }
   ],
   "source": [
    "print(\"Raw Puppi MET pt:\", events.RawPuppiMET.pt)\n",
    "print(\"Raw recomputed Puppi MET pt:\", raw_met.pt)\n",
    "print(\" Puppi MET pt:\", events.PuppiMET.pt)\n",
    "print(\"Corrected Puppi MET pt:\", cal_met.pt)\n"
   ]
  },
  {
   "cell_type": "code",
   "execution_count": 8,
   "metadata": {},
   "outputs": [
    {
     "name": "stdout",
     "output_type": "stream",
     "text": [
      "[33.5, 17]\n",
      "[29.2, 12]\n",
      "Raw Puppi MET pt: 30.46875\n",
      " Puppi MET pt: 26.603609085083008\n",
      "Corrected Puppi MET pt: 27.157184600830078\n"
     ]
    }
   ],
   "source": [
    "event_num=-1\n",
    "\n",
    "\n",
    "\n",
    "\n",
    "print(jet.pt[event_num])\n",
    "print(jet_raw.pt[event_num])\n",
    "\n",
    "\n",
    "print(\"Raw Puppi MET pt:\", events.RawPuppiMET.pt[event_num])\n",
    "print(\" Puppi MET pt:\", events.PuppiMET.pt[event_num])\n",
    "print(\"Corrected Puppi MET pt:\", cal_met.pt[event_num])"
   ]
  },
  {
   "cell_type": "code",
   "execution_count": 9,
   "metadata": {},
   "outputs": [],
   "source": [
    "ratio_met=events.PuppiMET.pt/cal_met.pt"
   ]
  },
  {
   "cell_type": "code",
   "execution_count": 10,
   "metadata": {},
   "outputs": [
    {
     "name": "stdout",
     "output_type": "stream",
     "text": [
      "[1, 1, 1, 1.4, 1.01, 1, 1, 1.01, 1, ... 1, 0.999, 1, 1, 0.999, 0.999, 1.14, 0.98]\n",
      "1.0147617797851562\n",
      "0.999881\n"
     ]
    },
    {
     "data": {
      "image/png": "[encoded data removed]",
      "text/plain": [
       "<Figure size 1000x600 with 1 Axes>"
      ]
     },
     "metadata": {},
     "output_type": "display_data"
    }
   ],
   "source": [
    "print(ratio_met)\n",
    "\n",
    "print(np.mean(ratio_met))\n",
    "print(np.median(ratio_met))\n",
    "\n",
    "# plot histo of ratio_met\n",
    "plt.figure(figsize=(10, 6))\n",
    "plt.hist(ratio_met, bins=np.linspace(0., 10, 100), alpha=0.7, label='Ratio MET / Corrected MET', color='blue')\n",
    "plt.yscale('log')\n",
    "plt.xlabel('Puppi MET pt /  Type 1 Puppi MET pt')\n",
    "plt.ylabel('Frequency')\n",
    "plt.show()"
   ]
  },
  {
   "cell_type": "code",
   "execution_count": 11,
   "metadata": {},
   "outputs": [
    {
     "data": {
      "image/png": "[encoded data removed]",
      "text/plain": [
       "<Figure size 1000x600 with 1 Axes>"
      ]
     },
     "metadata": {},
     "output_type": "display_data"
    }
   ],
   "source": [
    "#plot the average of the ratio for different bins of cal_met\n",
    "bins_met= np.logspace(0, 3, 50)  # Bins for MET pt from 1 to 1000\n",
    "bin_means = []\n",
    "bin_edges = []\n",
    "for i in range(len(bins_met) - 1):\n",
    "    mask = (cal_met.pt >= bins_met[i]) & (cal_met.pt < bins_met[i + 1])\n",
    "    if ak.count(cal_met.pt[mask]) > 0:\n",
    "        bin_mean = ak.mean(ratio_met[mask])\n",
    "        bin_means.append(bin_mean)\n",
    "        bin_edges.append((bins_met[i] + bins_met[i + 1]) / 2)\n",
    "        \n",
    "plt.figure(figsize=(10, 6))\n",
    "plt.errorbar(bin_edges, bin_means, yerr=ak.std(ratio_met[mask]), fmt='o', label='Mean Ratio MET / Corrected MET', color='blue')\n",
    "plt.xlabel('Type-1 MET pt')\n",
    "plt.ylabel('Puppi MET pt / Type-1 MET pt')\n",
    "plt.xscale('log')\n",
    "plt.show()\n"
   ]
  },
  {
   "cell_type": "code",
   "execution_count": 12,
   "metadata": {},
   "outputs": [
    {
     "name": "stdout",
     "output_type": "stream",
     "text": [
      "[[8.48], [9.02], [10.5, 13.3, ... 8.2, 8.88, 11.2, 6.43, 7.69, 9.96, 7.2, 7.04]] 5.5703125\n"
     ]
    }
   ],
   "source": [
    "low_pt_jet=events.CorrT1METJet.rawPt\n",
    "print(low_pt_jet, ak.min(low_pt_jet))\n",
    "\n",
    "# correct the met\n",
    "# cal_met_low_pt = met_correction_after_jec(events, \"RawPuppiMET\", jet_raw, low_pt_jet)"
   ]
  },
  {
   "cell_type": "markdown",
   "metadata": {},
   "source": [
    "# Use the coffea MET factory"
   ]
  },
  {
   "cell_type": "code",
   "execution_count": 13,
   "metadata": {},
   "outputs": [
    {
     "name": "stdout",
     "output_type": "stream",
     "text": [
      "{'METphi': 'phi', 'METpt': 'pt', 'JetPt': 'pt', 'UnClusteredEnergyDeltaY': 'MetUnclustEnUpDeltaY', 'massRaw': 'mass_raw', 'UnClusteredEnergyDeltaX': 'MetUnclustEnUpDeltaX', 'JetMass': 'mass', 'ptRaw': 'pt_raw', 'JetPhi': 'phi', 'JetEta': 'eta', 'JetA': 'area', 'ptGenJet': 'pt_gen'}\n"
     ]
    }
   ],
   "source": [
    "jec_inputs={}\n",
    "\n",
    "jec_stack = JECStack(jec_inputs)\n",
    "\n",
    "name_map = jec_stack.blank_name_map\n",
    "name_map[\"JetPt\"] = \"pt\"\n",
    "name_map[\"JetMass\"] = \"mass\"\n",
    "name_map[\"JetEta\"] = \"eta\"\n",
    "name_map[\"JetA\"] = \"area\"\n",
    "\n",
    "jets = events.Jet\n",
    "\n",
    "jets[\"pt_raw\"] = (1 - jets[\"rawFactor\"]) * jets.pt\n",
    "jets[\"mass_raw\"] = (1 - jets[\"rawFactor\"]) * jets.mass\n",
    "jets[\"pt_gen\"] = ak.fill_none(jets.matched_gen.pt, 0)\n",
    "# jets[\"rho\"] = events.fixedGridRhoFastjetAll\n",
    "name_map[\"ptGenJet\"] = \"pt_gen\"\n",
    "name_map[\"ptRaw\"] = \"pt_raw\"\n",
    "name_map[\"massRaw\"] = \"mass_raw\"\n",
    "# name_map[\"Rho\"] = \"rho\"\n",
    "\n",
    "name_map[\"METpt\"] = \"pt\"\n",
    "name_map[\"METphi\"] = \"phi\"\n",
    "name_map[\"JetPhi\"] = \"phi\"\n",
    "name_map[\"UnClusteredEnergyDeltaX\"] = \"MetUnclustEnUpDeltaX\"\n",
    "name_map[\"UnClusteredEnergyDeltaY\"] = \"MetUnclustEnUpDeltaY\"\n",
    "\n",
    "print(name_map)\n",
    "\n",
    "jet_factory = CorrectedJetsFactory(name_map, jec_stack)\n",
    "met_factory = CorrectedMETFactory(name_map)\n",
    "corrected_jets = jet"
   ]
  },
  {
   "cell_type": "code",
   "execution_count": 15,
   "metadata": {},
   "outputs": [],
   "source": [
    "corrected_met = met_factory.build(events.MET, corrected_jets,cachetools.Cache(np.inf))"
   ]
  },
  {
   "cell_type": "code",
   "execution_count": 16,
   "metadata": {},
   "outputs": [
    {
     "name": "stdout",
     "output_type": "stream",
     "text": [
      "[80.9, 90.1, 39.6, 12.5, 7.55, 26.3, 47, ... 45, 53.7, 22.8, 11, 10.1, 31.5, 25]\n",
      "[80.9, 72.1, 25.7, 13.3, 8.48, 26.9, 42.2, ... 46.4, 30.6, 14.5, 6.91, 27.7, 25.4]\n",
      "[77.3, 52.8, 24, 10.7, 8.99, 26.5, 37.2, ... 31, 37.1, 33.7, 19.1, 12, 17.7, 25.2]\n"
     ]
    }
   ],
   "source": [
    "print(corrected_met.pt)\n",
    "print(events.MET.pt)\n",
    "print(events.RawMET.pt)"
   ]
  },
  {
   "cell_type": "code",
   "execution_count": null,
   "metadata": {},
   "outputs": [],
   "source": []
  }
 ],
 "metadata": {
  "kernelspec": {
   "display_name": "Python 3",
   "language": "python",
   "name": "python3"
  },
  "language_info": {
   "codemirror_mode": {
    "name": "ipython",
    "version": 3
   },
   "file_extension": ".py",
   "mimetype": "text/x-python",
   "name": "python",
   "nbconvert_exporter": "python",
   "pygments_lexer": "ipython3",
   "version": "3.11.13"
  }
 },
 "nbformat": 4,
 "nbformat_minor": 2
}
