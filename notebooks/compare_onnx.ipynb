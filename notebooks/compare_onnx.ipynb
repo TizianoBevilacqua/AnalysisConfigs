{
 "cells": [
  {
   "cell_type": "code",
   "execution_count": 3,
   "metadata": {},
   "outputs": [],
   "source": [
    "import onnxruntime as rt\n",
    "import uproot\n",
    "import numpy as np\n",
    "from matplotlib import pyplot as plt\n",
    "\n",
    "columns = [\n",
    "    \"era\",\n",
    "    \"higgs1_reco_pt\",\n",
    "    \"higgs1_reco_eta\",\n",
    "    \"higgs1_reco_phi\",\n",
    "    \"higgs1_reco_mass\",\n",
    "    \"higgs2_reco_pt\",\n",
    "    \"higgs2_reco_eta\",\n",
    "    \"higgs2_reco_phi\",\n",
    "    \"higgs2_reco_mass\",\n",
    "    \"HT\",\n",
    "    \"higgs1_DeltaRjj\",\n",
    "    \"higgs2_DeltaRjj\",\n",
    "    \"minDeltaR_Higgjj\",\n",
    "    \"maxDeltaR_Higgjj\",\n",
    "    \"higgs1_helicityCosTheta\",\n",
    "    \"higgs2_helicityCosTheta\",\n",
    "    \"hh_CosThetaStar_CS\",\n",
    "    \"hh_vec_mass\",\n",
    "    \"hh_vec_pt\",\n",
    "    \"hh_vec_eta\",\n",
    "    \"hh_vec_DeltaR\",\n",
    "    \"hh_vec_DeltaPhi\",\n",
    "    \"hh_vec_DeltaEta\",\n",
    "    \"higgs1_reco_jet1_pt\",\n",
    "    \"higgs1_reco_jet1_eta\",\n",
    "    \"higgs1_reco_jet1_phi\",\n",
    "    \"higgs1_reco_jet1_mass\",\n",
    "    \"higgs1_reco_jet2_pt\",\n",
    "    \"higgs1_reco_jet2_eta\",\n",
    "    \"higgs1_reco_jet2_phi\",\n",
    "    \"higgs1_reco_jet2_mass\",\n",
    "    \"higgs2_reco_jet1_pt\",\n",
    "    \"higgs2_reco_jet1_eta\",\n",
    "    \"higgs2_reco_jet1_phi\",\n",
    "    \"higgs2_reco_jet1_mass\",\n",
    "    \"higgs2_reco_jet2_pt\",\n",
    "    \"higgs2_reco_jet2_eta\",\n",
    "    \"higgs2_reco_jet2_phi\",\n",
    "    \"higgs2_reco_jet2_mass\",\n",
    "    \"add_jet1pt_pt\",\n",
    "    \"add_jet1pt_eta\",\n",
    "    \"add_jet1pt_phi\",\n",
    "    \"add_jet1pt_mass\",\n",
    "    \"sigma_over_higgs1_reco_mass\",\n",
    "    \"sigma_over_higgs2_reco_mass\",\n",
    "]\n",
    "\n"
   ]
  },
  {
   "cell_type": "code",
   "execution_count": 9,
   "metadata": {},
   "outputs": [
    {
     "name": "stdout",
     "output_type": "stream",
     "text": [
      "['era', 'event', 'HT', 'jet_pt', 'jet_pt_raw', 'jet_eta', 'jet_phi', 'jet_mass', 'jet_mass_raw', 'jet_deepjet_probBVsAll', 'jet_pnet_probBVsAll', 'jet_pnet_probTauVsJet', 'jet_pnet_probb', 'jet_pnet_probc', 'jet_pnet_probuds', 'jet_pnet_probtauh', 'jet_pnet_ptcorr', 'jet_pnet_ptnu', 'jet_pnet_ptres', 'jet_pnet_jec_L1L2L3', 'jet_pnet_jec_L2Rel', 'jet_pnet_jec_L2L3Res', 'btag_cat', 'weight', 'is_boosted', 'weight_dnn', 'sigma_higgs1', 'sigma_over_higgs1_reco_mass', 'higgs1_reco_pt', 'higgs1_reco_eta', 'higgs1_reco_phi', 'higgs1_reco_mass', 'sigma_higgs2', 'sigma_over_higgs2_reco_mass', 'higgs2_reco_pt', 'higgs2_reco_eta', 'higgs2_reco_phi', 'higgs2_reco_mass', 'hh_vec_mass', 'hh_vec_pt', 'hh_vec_eta', 'hh_vec_phi', 'hh_vec_DeltaR', 'hh_vec_DeltaPhi', 'hh_vec_DeltaEta', 'hh_vec_ptOmass', 'njet', 'higgs1_reco_jet1_pt', 'higgs1_reco_jet1_eta', 'higgs1_reco_jet1_phi', 'higgs1_reco_jet1_mass', 'higgs1_reco_jet2_pt', 'higgs1_reco_jet2_eta', 'higgs1_reco_jet2_phi', 'higgs1_reco_jet2_mass', 'higgs1_DeltaPhijj', 'higgs1_DeltaEtajj', 'higgs1_DeltaRjj', 'higgs2_reco_jet1_pt', 'higgs2_reco_jet1_eta', 'higgs2_reco_jet1_phi', 'higgs2_reco_jet1_mass', 'higgs2_reco_jet2_pt', 'higgs2_reco_jet2_eta', 'higgs2_reco_jet2_phi', 'higgs2_reco_jet2_mass', 'higgs2_DeltaPhijj', 'higgs2_DeltaEtajj', 'higgs2_DeltaRjj', 'minDeltaR_Higgjj', 'maxDeltaR_Higgjj', 'higgs1_helicityCosTheta', 'higgs2_helicityCosTheta', 'hh_CosThetaStar_CS', 'higgs1_wp1_reco_pt', 'higgs1_wp1_reco_eta', 'higgs1_wp1_reco_phi', 'higgs1_wp1_reco_mass', 'higgs1_wp1_DeltaRjj', 'higgs2_wp1_reco_pt', 'higgs2_wp1_reco_eta', 'higgs2_wp1_reco_phi', 'higgs2_wp1_reco_mass', 'higgs2_wp1_DeltaRjj', 'hh_vec_wp1_DeltaR', 'hh_wp1_CosThetaStar_CS', 'higgs1_wp2_reco_pt', 'higgs1_wp2_reco_eta', 'higgs1_wp2_reco_phi', 'higgs1_wp2_reco_mass', 'higgs1_wp2_DeltaRjj', 'higgs2_wp2_reco_pt', 'higgs2_wp2_reco_eta', 'higgs2_wp2_reco_phi', 'higgs2_wp2_reco_mass', 'higgs2_wp2_DeltaRjj', 'hh_vec_wp2_DeltaR', 'hh_wp2_CosThetaStar_CS', 'higgs_ST', 'jet4pt_pt', 'add_jet1pt_pt', 'add_jet1pt_eta', 'add_jet1pt_phi', 'add_jet1pt_mass', 'add_jet1pt_Higgs1_deta', 'add_jet1pt_Higgs1_dphi', 'add_jet1pt_Higgs1_m', 'add_jet1pt_Higgs2_deta', 'add_jet1pt_Higgs2_dphi', 'add_jet1pt_Higgs2_m']\n"
     ]
    }
   ],
   "source": [
    "input_root=f'/pnfs/psi.ch/cms/trivcat/store/user/mmalucch/file_root/JetMET_2022EE_2b_signal_region_to_4b_soumya_january2025.root'\n",
    "tree=uproot.open(input_root)[\"tree\"]\n",
    "print(tree.keys())\n",
    "input_data_dict = tree.arrays(columns, library=\"np\")\n",
    "n_events = 100\n",
    "# get the input data as a numpy array\n",
    "input_data = np.array([input_data_dict[col][:n_events] for col in columns], dtype=np.float32).T\n"
   ]
  },
  {
   "cell_type": "code",
   "execution_count": 56,
   "metadata": {},
   "outputs": [],
   "source": [
    "model_path1='/work/mmalucch/out_ML_pytorch/DNN_AN_1e-3_e20drop75_minDelta1em5_SPANet_oversample_split_20folds/batch06/best_models/average_model_from_onnx.onnx'\n",
    "# model_path1='/work/mmalucch/out_ML_pytorch/DNN_AN_1e-3_e20drop75_minDelta1em5_run2/state_dict/average_model_from_onnx.onnx'\n",
    "# model_path1='/work/mmalucch/out_ML_pytorch/DNN_AN_VR1_1e-3_e20drop75_minDelta1em5_SPANet_oversample_split/state_dict/average_model_from_onnx.onnx'\n",
    "# model_path2='/t3home/mmalucch/AnalysisConfigs/configs/VBF_HH4b/params/DNN_AN_1e-3_e20drop75_minDelta1em5_SPANet_noEarlyStopping_average_model_from_onnx.onnx'\n",
    "model_path2='/t3home/mmalucch/AnalysisConfigs/configs/HH4b_common/params_common/DNN_AN_1e-3_e20drop75_minDelta1em5_SPANet_noEarlyStopping_20folds_average_model_from_onnx.onnx'"
   ]
  },
  {
   "cell_type": "code",
   "execution_count": 57,
   "metadata": {},
   "outputs": [
    {
     "name": "stdout",
     "output_type": "stream",
     "text": [
      "Inputs name: ['args_0']\n",
      "Outputs name: ['avg_w']\n",
      "Inputs shape: [['N', 45]]\n",
      "Outputs shape: [[None]]\n"
     ]
    }
   ],
   "source": [
    "session_combine1 = rt.InferenceSession(\n",
    "    model_path1,\n",
    "    providers=rt.get_available_providers()\n",
    ")\n",
    "# print the input/putput name and shape\n",
    "input_name=[input.name for input in session_combine1.get_inputs()]\n",
    "output_name=[output.name for output in session_combine1.get_outputs()]\n",
    "print(\"Inputs name:\", input_name)\n",
    "print(\"Outputs name:\", output_name)\n",
    "\n",
    "input_shape=[input.shape for input in session_combine1.get_inputs()]\n",
    "output_shape=[output.shape for output in session_combine1.get_outputs()]\n",
    "print(\"Inputs shape:\", input_shape)\n",
    "print(\"Outputs shape:\", output_shape)\n",
    "\n",
    "input_example = {input_name[0]: input_data}\n",
    "\n",
    "output1 = session_combine1.run(output_name, input_example)[0]\n"
   ]
  },
  {
   "cell_type": "code",
   "execution_count": 58,
   "metadata": {},
   "outputs": [
    {
     "name": "stdout",
     "output_type": "stream",
     "text": [
      "Inputs name: ['args_0']\n",
      "Outputs name: ['avg_w']\n",
      "Inputs shape: [['N', 45]]\n",
      "Outputs shape: [[None]]\n"
     ]
    }
   ],
   "source": [
    "session_combine2 = rt.InferenceSession(\n",
    "    model_path2,\n",
    "    providers=rt.get_available_providers()\n",
    ")\n",
    "# print the input/putput name and shape\n",
    "input_name=[input.name for input in session_combine2.get_inputs()]\n",
    "output_name=[output.name for output in session_combine2.get_outputs()]\n",
    "print(\"Inputs name:\", input_name)\n",
    "print(\"Outputs name:\", output_name)\n",
    "\n",
    "input_shape=[input.shape for input in session_combine2.get_inputs()]\n",
    "output_shape=[output.shape for output in session_combine2.get_outputs()]\n",
    "print(\"Inputs shape:\", input_shape)\n",
    "print(\"Outputs shape:\", output_shape)\n",
    "\n",
    "input_example = {input_name[0]: input_data}\n",
    "\n",
    "output2 = session_combine2.run(output_name, input_example)[0]\n"
   ]
  },
  {
   "cell_type": "code",
   "execution_count": 59,
   "metadata": {},
   "outputs": [
    {
     "name": "stdout",
     "output_type": "stream",
     "text": [
      "[0.27965802 0.43866467 1.1454651  1.925614   1.5226586  2.68134\n",
      " 0.3624192  1.5703909  1.3618013  0.5576994  0.85620594 0.55731666\n",
      " 1.9236794  0.8410357  0.9193077  2.2925465  1.7728382  0.60622454\n",
      " 1.8308227  1.8210455  2.868959   1.3101743  5.466365   2.0104175\n",
      " 3.9344602  3.7799087  0.7849596  0.7908114  2.9562385  0.42568263\n",
      " 1.4923697  2.8888268  0.41120863 1.5220451  2.2313254  0.53853935\n",
      " 1.457257   2.5520692  0.45866108 1.7270066  0.06353624 0.252005\n",
      " 1.5893307  1.6388766  2.407554   0.08274977 3.8278847  0.25725943\n",
      " 0.9874468  0.934441   1.416949   1.3407155  2.950825   4.7808046\n",
      " 0.31878003 1.8980751  0.02493888 0.13207792 3.9670384  1.7567456\n",
      " 0.0300223  2.3227136  2.590752   0.724976   1.1928934  0.5714618\n",
      " 1.54893    0.4915843  1.9494274  3.1494994  3.3299866  1.8699617\n",
      " 0.45878714 1.924846   2.7935812  3.0573123  2.460542   4.36362\n",
      " 3.8764434  0.38924167 3.5186584  2.4178038  1.6948764  2.0390036\n",
      " 6.1877675  3.2216973  2.186431   4.5110836  0.89834386 0.25345027\n",
      " 3.5763218  1.5827668  0.7322718  3.5505478  3.5880418  1.6185722\n",
      " 0.6852232  4.745992   0.24284296 1.0075917 ]\n",
      "[8.6697921e-02 2.2633927e-01 1.5769191e+00 8.2352817e-01 5.2800655e-01\n",
      " 2.6503863e+00 1.3919629e-01 1.8315872e+00 1.4546673e+00 1.1899036e+00\n",
      " 4.1428861e-01 5.2275616e-01 1.2481551e+00 4.3647084e-01 1.9961618e-01\n",
      " 1.3431380e+00 1.3167636e+00 8.8658988e-01 1.5453310e+00 1.4092566e+00\n",
      " 3.1755602e+00 1.3623857e+00 6.0137272e+00 1.2898692e+00 3.4760327e+00\n",
      " 2.3371944e+00 6.2535840e-01 1.1763887e-01 1.3436248e+00 1.0924879e-01\n",
      " 1.6426744e+00 9.0736157e-01 1.7427874e+00 1.0099553e+00 2.0118763e+00\n",
      " 6.2923849e-01 1.8899044e+00 2.8708384e+00 6.2433219e-01 1.5957046e+00\n",
      " 6.6544384e-02 6.7631525e-01 1.3199573e+00 8.5053450e-01 1.8398600e+00\n",
      " 7.3769242e-02 4.4780025e+00 8.6609805e-01 2.4290013e+00 1.1015846e+00\n",
      " 7.4213350e-01 3.2351084e+00 1.2934780e+00 6.1456242e+00 1.3690548e-01\n",
      " 2.4703877e+00 2.9436809e-03 1.3499621e-01 1.5326062e+00 1.7441987e+00\n",
      " 6.5349415e-02 2.1088481e+00 1.1308186e+00 1.7029867e+00 1.7835469e+00\n",
      " 1.1659115e-01 1.7802840e-01 2.1181706e-01 1.0992249e+00 1.4378141e+00\n",
      " 2.2479587e+00 6.9250494e-01 2.8983992e-01 1.7169750e+00 3.0087097e+00\n",
      " 3.0178041e+00 6.6735253e+00 4.7650905e+00 5.1040702e+00 4.4024390e-01\n",
      " 8.2169229e-01 2.1909442e+00 1.5951899e+00 2.8557746e+00 6.1575580e+00\n",
      " 3.5833592e+00 3.6586578e+00 5.0537620e+00 1.6104902e+00 2.6473075e-02\n",
      " 2.4029195e+00 2.1356828e+00 1.6988622e+00 5.0714149e+00 2.9300954e+00\n",
      " 5.2681274e+00 8.1831324e-01 4.0192285e+00 2.0172541e-01 7.7777851e-01]\n"
     ]
    }
   ],
   "source": [
    "print(output1)\n",
    "print(output2)\n"
   ]
  }
 ],
 "metadata": {
  "kernelspec": {
   "display_name": "Python 3",
   "language": "python",
   "name": "python3"
  },
  "language_info": {
   "codemirror_mode": {
    "name": "ipython",
    "version": 3
   },
   "file_extension": ".py",
   "mimetype": "text/x-python",
   "name": "python",
   "nbconvert_exporter": "python",
   "pygments_lexer": "ipython3",
   "version": "3.9.18"
  }
 },
 "nbformat": 4,
 "nbformat_minor": 2
}
