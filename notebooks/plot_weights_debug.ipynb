{
 "cells": [
  {
   "cell_type": "code",
   "execution_count": 9,
   "metadata": {},
   "outputs": [],
   "source": [
    "import onnxruntime as rt\n",
    "import uproot\n",
    "import numpy as np\n",
    "from matplotlib import pyplot as plt\n",
    "from collections import OrderedDict\n"
   ]
  },
  {
   "cell_type": "code",
   "execution_count": 10,
   "metadata": {},
   "outputs": [],
   "source": [
    "\n",
    "bkg_morphing_dnn_input_variables = OrderedDict(\n",
    "    {\n",
    "        \"era\": [\"events\", \"era\"],\n",
    "        \"higgs1_reco_pt\": [\"HiggsLeading\", \"pt\"],\n",
    "        \"higgs1_reco_eta\": [\"HiggsLeading\", \"eta\"],\n",
    "        \"higgs1_reco_phi\": [\"HiggsLeading\", \"phi\"],\n",
    "        \"higgs1_reco_mass\": [\"HiggsLeading\", \"mass\"],\n",
    "        \"higgs2_reco_pt\": [\"HiggsSubLeading\", \"pt\"],\n",
    "        \"higgs2_reco_eta\": [\"HiggsSubLeading\", \"eta\"],\n",
    "        \"higgs2_reco_phi\": [\"HiggsSubLeading\", \"phi\"],\n",
    "        \"higgs2_reco_mass\": [\"HiggsSubLeading\", \"mass\"],\n",
    "        \"HT\": [\"events\", \"HT\"],\n",
    "        \"higgs1_DeltaRjj\": [\"HiggsLeading\", \"dR\"],\n",
    "        \"higgs2_DeltaRjj\": [\"HiggsSubLeading\", \"dR\"],\n",
    "        \"minDeltaR_Higgjj\": [\"events\", \"dR_min\"],\n",
    "        \"maxDeltaR_Higgjj\": [\"events\", \"dR_max\"],\n",
    "        \"higgs1_helicityCosTheta\": [\"HiggsLeading\", \"helicityCosTheta\"],\n",
    "        \"higgs2_helicityCosTheta\": [\"HiggsSubLeading\", \"helicityCosTheta\"],\n",
    "        \"hh_CosThetaStar_CS\": [\"HH\", \"Costhetastar_CS\"],\n",
    "        \"hh_vec_mass\": [\"HH\", \"mass\"],\n",
    "        \"hh_vec_pt\": [\"HH\", \"pt\"],\n",
    "        \"hh_vec_eta\": [\"HH\", \"eta\"],\n",
    "        \"hh_vec_DeltaR\": [\"HH\", \"dR\"],\n",
    "        \"hh_vec_DeltaPhi\": [\"HH\", \"dPhi\"],\n",
    "        \"hh_vec_DeltaEta\": [\"HH\", \"dEta\"],\n",
    "        \"higgs1_reco_jet1_pt\": [\"JetGoodFromHiggsOrdered:0\", \"pt\"],\n",
    "        \"higgs1_reco_jet1_eta\": [\"JetGoodFromHiggsOrdered:0\", \"eta\"],\n",
    "        \"higgs1_reco_jet1_phi\": [\"JetGoodFromHiggsOrdered:0\", \"phi\"],\n",
    "        \"higgs1_reco_jet1_mass\": [\"JetGoodFromHiggsOrdered:0\", \"mass\"],\n",
    "        \"higgs1_reco_jet2_pt\": [\"JetGoodFromHiggsOrdered:1\", \"pt\"],\n",
    "        \"higgs1_reco_jet2_eta\": [\"JetGoodFromHiggsOrdered:1\", \"eta\"],\n",
    "        \"higgs1_reco_jet2_phi\": [\"JetGoodFromHiggsOrdered:1\", \"phi\"],\n",
    "        \"higgs1_reco_jet2_mass\": [\"JetGoodFromHiggsOrdered:1\", \"mass\"],\n",
    "        \"higgs2_reco_jet1_pt\": [\"JetGoodFromHiggsOrdered:2\", \"pt\"],\n",
    "        \"higgs2_reco_jet1_eta\": [\"JetGoodFromHiggsOrdered:2\", \"eta\"],\n",
    "        \"higgs2_reco_jet1_phi\": [\"JetGoodFromHiggsOrdered:2\", \"phi\"],\n",
    "        \"higgs2_reco_jet1_mass\": [\"JetGoodFromHiggsOrdered:2\", \"mass\"],\n",
    "        \"higgs2_reco_jet2_pt\": [\"JetGoodFromHiggsOrdered:3\", \"pt\"],\n",
    "        \"higgs2_reco_jet2_eta\": [\"JetGoodFromHiggsOrdered:3\", \"eta\"],\n",
    "        \"higgs2_reco_jet2_phi\": [\"JetGoodFromHiggsOrdered:3\", \"phi\"],\n",
    "        \"higgs2_reco_jet2_mass\": [\"JetGoodFromHiggsOrdered:3\", \"mass\"],\n",
    "        \"add_jet1pt_pt\": [\"add_jet1pt\", \"pt\"],\n",
    "        \"add_jet1pt_eta\": [\"add_jet1pt\", \"eta\"],\n",
    "        \"add_jet1pt_phi\": [\"add_jet1pt\", \"phi\"],\n",
    "        \"add_jet1pt_mass\": [\"add_jet1pt\", \"mass\"],\n",
    "        \"sigma_over_higgs1_reco_mass\": [\"events\", \"sigma_over_higgs1_reco_mass\"],\n",
    "        \"sigma_over_higgs2_reco_mass\": [\"events\", \"sigma_over_higgs2_reco_mass\"],\n",
    "    }\n",
    ")\n",
    "bkg_morphing_dnn_input_variables_list = list(bkg_morphing_dnn_input_variables.keys())\n",
    "\n"
   ]
  },
  {
   "cell_type": "code",
   "execution_count": 11,
   "metadata": {},
   "outputs": [],
   "source": [
    "input_root=f'/pnfs/psi.ch/cms/trivcat/store/user/mmalucch/file_root/JetMET_2022EE_2b_signal_region_to_4b_soumya_january2025.root'\n",
    "tree=uproot.open(input_root)[\"tree\"]\n",
    "input_data_dict = tree.arrays(bkg_morphing_dnn_input_variables_list, library=\"np\")\n"
   ]
  },
  {
   "cell_type": "code",
   "execution_count": 12,
   "metadata": {},
   "outputs": [],
   "source": [
    "n_events = 100000\n",
    "# get the input data as a numpy array\n",
    "input_data = np.array([input_data_dict[col][:n_events] for col in bkg_morphing_dnn_input_variables_list], dtype=np.float32).T"
   ]
  },
  {
   "cell_type": "code",
   "execution_count": 13,
   "metadata": {},
   "outputs": [],
   "source": [
    "\n",
    "# model_path='/work/tharte/datasets/ML_pytorch/out/batch00/best_models/average_model_from_pytorch_noratio.onnx'\n",
    "# model_path='/work/tharte/datasets/ML_pytorch/out/batch00/one_model/average_model_from_pytorch.onnx'\n",
    "# model_path='/work/tharte/datasets/ML_pytorch/out/batch00/best_models_onnx/average_model_from_onnx.onnx'\n",
    "# model_path='/work/tharte/datasets/ML_pytorch/out/batch00/best_models_onnx/average_model_from_onnx.onnx'\n",
    "# model_path='/work/tharte/datasets/ML_pytorch/out/batch00/one_model/average_model_from_onnx.onnx'\n",
    "\n",
    "\n",
    "\n",
    "\n",
    "# model_path='/work/tharte/datasets/ML_pytorch/out/batch00/one_model/output/run00_model_15_ratio.onnx'\n",
    "# model_path='/work/tharte/datasets/ML_pytorch/out/batch00/one_model/output/run01_model_12_ratio.onnx'\n",
    "# model_path='/work/tharte/datasets/ML_pytorch/out/batch00/one_model/run01_model_12_state_dict.onnx'\n",
    "# model_path='/work/tharte/datasets/ML_pytorch/out/batch00/one_model/run02_model_12_state_dict.onnx'\n",
    "model_path='/work/tharte/datasets/ML_pytorch/out/batch00/one_model/run00_model_15_state_dict.onnx'\n",
    "# model_path='/work/tharte/datasets/ML_pytorch/out/batch00/one_model/output/average_model_from_onnx_run0_run1.onnx'\n",
    "model_path='/work/tharte/datasets/ML_pytorch/out/batch00/best_models_onnx/best_model_run02.onnx'\n",
    "# model_path='/work/tharte/datasets/ML_pytorch/out/batch00/run02/state_dict/model_12_state_dict.onnx'\n",
    "model_path='/work/tharte/datasets/ML_pytorch/out/running_new_model/state_dict/model_21_state_dict.onnx'\n",
    "model_path='/work/tharte/datasets/ML_pytorch/out/running_new_model/state_dict/model_15_state_dict.onnx'\n"
   ]
  },
  {
   "cell_type": "code",
   "execution_count": 14,
   "metadata": {},
   "outputs": [
    {
     "name": "stdout",
     "output_type": "stream",
     "text": [
      "Inputs name: ['InputVariables']\n",
      "Outputs name: ['Sigmoid']\n",
      "Inputs shape: [['batch_size', 45]]\n",
      "Outputs shape: [['batch_size', 1]]\n"
     ]
    }
   ],
   "source": [
    "session_combine = rt.InferenceSession(\n",
    "    model_path,\n",
    "    providers=rt.get_available_providers()\n",
    ")\n",
    "# print the input/putput name and shape\n",
    "input_name=[input.name for input in session_combine.get_inputs()]\n",
    "output_name=[output.name for output in session_combine.get_outputs()]\n",
    "print(\"Inputs name:\", input_name)\n",
    "print(\"Outputs name:\", output_name)\n",
    "\n",
    "input_shape=[input.shape for input in session_combine.get_inputs()]\n",
    "output_shape=[output.shape for output in session_combine.get_outputs()]\n",
    "print(\"Inputs shape:\", input_shape)\n",
    "print(\"Outputs shape:\", output_shape)\n",
    "\n",
    "input_example = {input_name[0]: input_data}\n",
    "output = session_combine.run(output_name, input_example)[0]\n"
   ]
  },
  {
   "cell_type": "code",
   "execution_count": 15,
   "metadata": {},
   "outputs": [
    {
     "name": "stdout",
     "output_type": "stream",
     "text": [
      "[[0.78706276]\n",
      " [0.5969839 ]\n",
      " [0.6355024 ]\n",
      " ...\n",
      " [0.8149303 ]\n",
      " [0.8515208 ]\n",
      " [0.76666164]]\n",
      "[[3.6962194]\n",
      " [1.4812905]\n",
      " [1.7435023]\n",
      " ...\n",
      " [4.4033704]\n",
      " [5.734949 ]\n",
      " [3.2856221]]\n"
     ]
    }
   ],
   "source": [
    "print(output)\n",
    "print(output/(1-output))"
   ]
  },
  {
   "cell_type": "code",
   "execution_count": 20,
   "metadata": {},
   "outputs": [
    {
     "name": "stderr",
     "output_type": "stream",
     "text": [
      "/tmp/ipykernel_47896/69949162.py:10: UserWarning: FigureCanvasAgg is non-interactive, and thus cannot be shown\n",
      "  fig.show()\n"
     ]
    },
    {
     "name": "stdout",
     "output_type": "stream",
     "text": [
      "0.7116764\n"
     ]
    },
    {
     "data": {
      "image/png": "[encoded data removed]",
      "text/plain": [
       "<Figure size 640x480 with 1 Axes>"
      ]
     },
     "metadata": {},
     "output_type": "display_data"
    }
   ],
   "source": [
    "# plot the histogram of weight_dnn\n",
    "fig, ax = plt.subplots()\n",
    "plt.hist(\n",
    "    output,\n",
    "    # bins=np.logspace(-1, 0, 100),\n",
    "    bins=np.linspace(0, 1, 100),\n",
    ")\n",
    "# ax.set_xscale(\"log\")\n",
    "# ax.set_yscale(\"log\")\n",
    "fig.show()\n",
    "\n",
    "print(np.mean(output))"
   ]
  },
  {
   "cell_type": "code",
   "execution_count": 24,
   "metadata": {},
   "outputs": [
    {
     "name": "stderr",
     "output_type": "stream",
     "text": [
      "/tmp/ipykernel_47896/4193805512.py:10: UserWarning: FigureCanvasAgg is non-interactive, and thus cannot be shown\n",
      "  fig.show()\n"
     ]
    },
    {
     "name": "stdout",
     "output_type": "stream",
     "text": [
      "2.8301594\n"
     ]
    },
    {
     "data": {
      "image/png": "[encoded data removed]",
      "text/plain": [
       "<Figure size 640x480 with 1 Axes>"
      ]
     },
     "metadata": {},
     "output_type": "display_data"
    }
   ],
   "source": [
    "# plot the histogram of weight_dnn\n",
    "fig, ax = plt.subplots()\n",
    "plt.hist(\n",
    "    output/(1-output),\n",
    "    bins=np.logspace(-1, 2, 100),\n",
    "    # bins=np.linspace(0, 1, 100),\n",
    ")\n",
    "ax.set_xscale(\"log\")\n",
    "ax.set_yscale(\"log\")\n",
    "fig.show()\n",
    "\n",
    "print(np.mean(output/(1-output)))"
   ]
  },
  {
   "cell_type": "code",
   "execution_count": null,
   "metadata": {},
   "outputs": [],
   "source": []
  }
 ],
 "metadata": {
  "kernelspec": {
   "display_name": "Python 3",
   "language": "python",
   "name": "python3"
  },
  "language_info": {
   "codemirror_mode": {
    "name": "ipython",
    "version": 3
   },
   "file_extension": ".py",
   "mimetype": "text/x-python",
   "name": "python",
   "nbconvert_exporter": "python",
   "pygments_lexer": "ipython3",
   "version": "3.9.18"
  }
 },
 "nbformat": 4,
 "nbformat_minor": 2
}
